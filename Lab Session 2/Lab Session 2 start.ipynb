{
 "cells": [
  {
   "cell_type": "markdown",
   "metadata": {
    "collapsed": true,
    "deletable": true,
    "editable": true
   },
   "source": [
    "# First Steps in Data Wrangling with Python"
   ]
  },
  {
   "cell_type": "markdown",
   "metadata": {
    "deletable": true,
    "editable": true
   },
   "source": [
    "In this lab session, we will discuss the basics of\n",
    "  * Basis steps in Jupyter\n",
    "  * A (really) quick introduction into data wrangling with Python\n",
    "  * Getting data into Python\n",
    "  * Handling data in Python\n",
    "  * Transferring data to Tableau"
   ]
  },
  {
   "cell_type": "markdown",
   "metadata": {
    "deletable": true,
    "editable": true
   },
   "source": [
    "## Basic steps in Jupyter"
   ]
  },
  {
   "cell_type": "markdown",
   "metadata": {
    "deletable": true,
    "editable": true
   },
   "source": [
    "### Some principles:\n",
    "  * Everything is handled in cells. Cells contain source code, explanation, documentation, and output.\n",
    "  * Jupyter is interactive and differentiates between a command mode (`Esc`) and an edit mode (`Enter`).\n",
    "  * Keyboard shortcuts are vital to know for effective work in Jupyter"
   ]
  },
  {
   "cell_type": "markdown",
   "metadata": {
    "deletable": true,
    "editable": true
   },
   "source": [
    "### Most important keyboard shortcuts\n",
    "  * `Enter` will bring you into edit mode\n",
    "    + In edit mode you can write Python or [Markdown](https://github.com/adam-p/markdown-here/wiki/Markdown-Cheatsheet)\n",
    "  * `Esc` will bring you in command mode\n",
    "    + `b` will create a new cell below the current sell (`a` creates a cell above)\n",
    "    + `y` interprets a cell as code\n",
    "    + `m` interprets a cell as markdown\n",
    "    + pressing `d` twice deletes a cell\n",
    "  * `Shift + Enter` runs a cell\n",
    "  * `Shift + Command + P` opens the command palette\n",
    "  * You can run shell commands using `!` - This is helpful to see available files"
   ]
  },
  {
   "cell_type": "code",
   "execution_count": 41,
   "metadata": {
    "collapsed": false,
    "deletable": true,
    "editable": true
   },
   "outputs": [
    {
     "name": "stdout",
     "output_type": "stream",
     "text": [
      "This is a code cell that will be executed\n"
     ]
    }
   ],
   "source": [
    "print (\"This is a code cell that will be executed\")"
   ]
  },
  {
   "cell_type": "markdown",
   "metadata": {
    "deletable": true,
    "editable": true
   },
   "source": [
    "print (\"This is a markdown cell that will be rendered\")"
   ]
  },
  {
   "cell_type": "markdown",
   "metadata": {
    "deletable": true,
    "editable": true
   },
   "source": [
    "## A (really) quick introduction into data wrangling with Python\n"
   ]
  },
  {
   "cell_type": "markdown",
   "metadata": {
    "deletable": true,
    "editable": true
   },
   "source": [
    "We use the pandas library to wrangle data. You can access the pandas documentation in the `Help` menu."
   ]
  },
  {
   "cell_type": "markdown",
   "metadata": {
    "deletable": true,
    "editable": true
   },
   "source": [
    "As a first step, lets go back to the dataset from the previous week (you may need to adapt this to your operating system):"
   ]
  },
  {
   "cell_type": "code",
   "execution_count": 42,
   "metadata": {
    "collapsed": false,
    "deletable": true,
    "editable": true
   },
   "outputs": [
    {
     "name": "stdout",
     "output_type": "stream",
     "text": [
      "../Lab Session 1/file1.csv ../Lab Session 1/file3.csv\r\n",
      "../Lab Session 1/file2.csv ../Lab Session 1/final.csv\r\n"
     ]
    }
   ],
   "source": [
    "!ls ../Lab\\ Session\\ 1/*.csv"
   ]
  },
  {
   "cell_type": "markdown",
   "metadata": {
    "deletable": true,
    "editable": true
   },
   "source": [
    "Let's have a look at the Jupyter notebook from last class [here](../Lab Session 1/Lab Session 1.ipynb)."
   ]
  },
  {
   "cell_type": "markdown",
   "metadata": {
    "deletable": true,
    "editable": true
   },
   "source": [
    "## Getting data into Python"
   ]
  },
  {
   "cell_type": "markdown",
   "metadata": {
    "deletable": true,
    "editable": true
   },
   "source": [
    "Load pandas to handle data frames."
   ]
  },
  {
   "cell_type": "markdown",
   "metadata": {
    "deletable": true,
    "editable": true
   },
   "source": [
    "Have a look at the available csv files."
   ]
  },
  {
   "cell_type": "markdown",
   "metadata": {
    "deletable": true,
    "editable": true
   },
   "source": [
    "The following command allows us to display multiple outputs at the same time (Highly useful!) \\[Reference: [dataquest.io](https://www.dataquest.io/blog/jupyter-notebook-tips-tricks-shortcuts/)\\]"
   ]
  },
  {
   "cell_type": "code",
   "execution_count": 45,
   "metadata": {
    "collapsed": true,
    "deletable": true,
    "editable": true
   },
   "outputs": [],
   "source": [
    "from IPython.core.interactiveshell import InteractiveShell\n",
    "InteractiveShell.ast_node_interactivity = \"all\""
   ]
  },
  {
   "cell_type": "markdown",
   "metadata": {
    "deletable": true,
    "editable": true
   },
   "source": [
    "Load the election results and have a look at the table."
   ]
  },
  {
   "cell_type": "markdown",
   "metadata": {
    "deletable": true,
    "editable": true
   },
   "source": [
    "## Handling data in Python"
   ]
  },
  {
   "cell_type": "markdown",
   "metadata": {
    "deletable": true,
    "editable": true
   },
   "source": [
    "Perform some basic quality checks."
   ]
  },
  {
   "cell_type": "markdown",
   "metadata": {
    "deletable": true,
    "editable": true
   },
   "source": [
    "How many counties are in the dataset? Does that match your expectations?"
   ]
  },
  {
   "cell_type": "markdown",
   "metadata": {
    "deletable": true,
    "editable": true
   },
   "source": [
    "What is the unique id for each row?"
   ]
  },
  {
   "cell_type": "markdown",
   "metadata": {
    "deletable": true,
    "editable": true
   },
   "source": [
    "We want the election results per county. What is the appropriate field? Are there problems with the field?"
   ]
  },
  {
   "cell_type": "markdown",
   "metadata": {
    "deletable": true,
    "editable": true
   },
   "source": [
    "How do we calculate the winning party?"
   ]
  },
  {
   "cell_type": "markdown",
   "metadata": {
    "deletable": true,
    "editable": true
   },
   "source": [
    "Make a new dataframe that only contains the relevant columns."
   ]
  },
  {
   "cell_type": "markdown",
   "metadata": {
    "deletable": true,
    "editable": true
   },
   "source": [
    "Load the census data."
   ]
  },
  {
   "cell_type": "markdown",
   "metadata": {
    "deletable": true,
    "editable": true
   },
   "source": [
    "Identify the column that contains the mean income."
   ]
  },
  {
   "cell_type": "markdown",
   "metadata": {
    "deletable": true,
    "editable": true
   },
   "source": [
    "Make a new dataframe that only contains the relevant columns."
   ]
  },
  {
   "cell_type": "markdown",
   "metadata": {
    "deletable": true,
    "editable": true
   },
   "source": [
    "Join the two datasets."
   ]
  },
  {
   "cell_type": "markdown",
   "metadata": {
    "deletable": true,
    "editable": true
   },
   "source": [
    "Perform some quality checks on your result."
   ]
  },
  {
   "cell_type": "markdown",
   "metadata": {
    "deletable": true,
    "editable": true
   },
   "source": [
    "## Transferring data to Tableau"
   ]
  },
  {
   "cell_type": "markdown",
   "metadata": {
    "deletable": true,
    "editable": true
   },
   "source": [
    "Write the data to a file for Tableau."
   ]
  }
 ],
 "metadata": {
  "kernelspec": {
   "display_name": "Python 3",
   "language": "python",
   "name": "python3"
  },
  "language_info": {
   "codemirror_mode": {
    "name": "ipython",
    "version": 3
   },
   "file_extension": ".py",
   "mimetype": "text/x-python",
   "name": "python",
   "nbconvert_exporter": "python",
   "pygments_lexer": "ipython3",
   "version": "3.6.0"
  }
 },
 "nbformat": 4,
 "nbformat_minor": 2
}
